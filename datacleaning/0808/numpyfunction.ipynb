{
 "cells": [
  {
   "cell_type": "code",
   "execution_count": 167,
   "id": "33385f8e",
   "metadata": {},
   "outputs": [],
   "source": [
    "import numpy as np\n",
    "import copy\n",
    "import pandas as pd"
   ]
  },
  {
   "cell_type": "code",
   "execution_count": 168,
   "id": "f36f69da",
   "metadata": {},
   "outputs": [
    {
     "name": "stdout",
     "output_type": "stream",
     "text": [
      "10\n",
      "[100, 2, 3]\n"
     ]
    }
   ],
   "source": [
    "# 일반 인덱싱한 데이터는 파이썬의 기본 데이터와 동일하게 동작\n",
    "# scalar data - immutable\n",
    "a = 10\n",
    "b = a\n",
    "b = 20\n",
    "print(a)  # 10\n",
    "\n",
    "#\n",
    "ax = [1, 2, 3]\n",
    "bx = ax\n",
    "bx[0] = 100\n",
    "print(ax)  # [100, 2, 3]"
   ]
  },
  {
   "cell_type": "code",
   "execution_count": 169,
   "id": "c54000d3",
   "metadata": {},
   "outputs": [
    {
     "name": "stdout",
     "output_type": "stream",
     "text": [
      "[1, 2, 3]\n",
      "[[100, 2, 3], [4, 5, 6]]\n",
      "[[100, 2, 3], [4, 5, 6]]\n"
     ]
    }
   ],
   "source": [
    "# copy 모듈의 copy(shallow copy - 얕은 복사)와 deepcopy(깊은 복사)\n",
    "# 얕은 복사는 한 번 복제, 재귀적으로 수행하지 않음\n",
    "# 깊은 복사는 재귀적으로 복제 수행\n",
    "\n",
    "li = [1,2,3]\n",
    "c = li.copy()  # 얕은 복사\n",
    "c[0] = 100\n",
    "print(li)\n",
    "\n",
    "m = [[1,2,3],[4,5,6]]\n",
    "c = m.copy()  # 얕은 복사\n",
    "c[0][0] = 100\n",
    "print(m)\n",
    "\n",
    "d = copy.deepcopy(m)  # 깊은 복사\n",
    "d[0][0] = 20\n",
    "print(m)  # deepcopy는 복사본 - 수정해도 원본에 영향 주지 않음"
   ]
  },
  {
   "cell_type": "code",
   "execution_count": 170,
   "id": "04c049b0",
   "metadata": {},
   "outputs": [
    {
     "name": "stdout",
     "output_type": "stream",
     "text": [
      "[1, 2, 3, 4, 5, 6, 7, 8, 9] 9 <class 'list'>\n",
      "[1 2 3 4 5 6 7 8 9] (9,) <class 'numpy.ndarray'>\n",
      "[[1 2 3]\n",
      " [4 5 6]\n",
      " [7 8 9]] (3, 3) <class 'numpy.ndarray'>\n"
     ]
    }
   ],
   "source": [
    "# 일차원 배열과 이차원 배열 생성\n",
    "li = list(range(1, 10)) # 일차원 list 생성\n",
    "print(li, len(li), type(li))\n",
    "\n",
    "# list 이용해서 ndarray 생성\n",
    "ar = np.array(li)\n",
    "matrix = ar.reshape(3,3)\n",
    "print(ar, ar.shape, type(ar))\n",
    "print(matrix, matrix.shape, type(matrix))"
   ]
  },
  {
   "cell_type": "code",
   "execution_count": 171,
   "id": "7e090747",
   "metadata": {},
   "outputs": [
    {
     "name": "stdout",
     "output_type": "stream",
     "text": [
      "1\n",
      "1\n",
      "1\n",
      "[1 2 3]\n",
      "[1 4 7]\n"
     ]
    }
   ],
   "source": [
    "# 인덱싱 - 데이터 1개 가져오기\n",
    "data1 = ar[0]\n",
    "print(data1)\n",
    "\n",
    "data2 = matrix[0,0]\n",
    "data3 = matrix[0][0]\n",
    "print(data2)\n",
    "print(data3)\n",
    "\n",
    "# slicing\n",
    "# 이차원 배열에서 행 하나 찾아오기\n",
    "row = matrix[0]\n",
    "print(row)\n",
    "\n",
    "# 이차원 배열에서 열 하나 찾아오기\n",
    "column = matrix[:, 0]\n",
    "print(column)"
   ]
  },
  {
   "cell_type": "code",
   "execution_count": 172,
   "id": "fb09b4c5",
   "metadata": {},
   "outputs": [
    {
     "name": "stdout",
     "output_type": "stream",
     "text": [
      "[1 2 3 4 5 6 7 8 9]\n",
      "[[1 2 3]\n",
      " [4 5 6]\n",
      " [7 8 9]]\n",
      "[[1 2 3]\n",
      " [4 5 6]\n",
      " [7 8 9]]\n"
     ]
    }
   ],
   "source": [
    "# scalar - 원본 바뀌지 않음\n",
    "data1 = 100\n",
    "print(ar)\n",
    "\n",
    "data2 = 100\n",
    "print(matrix)\n",
    "\n",
    "data3 = 100\n",
    "print(matrix)"
   ]
  },
  {
   "cell_type": "code",
   "execution_count": 173,
   "id": "9e7ca062",
   "metadata": {},
   "outputs": [
    {
     "name": "stdout",
     "output_type": "stream",
     "text": [
      "[[100   2   3]\n",
      " [  4   5   6]\n",
      " [  7   8   9]]\n",
      "[[20  2  3]\n",
      " [ 4  5  6]\n",
      " [ 7  8  9]]\n",
      "[[20  2  3]\n",
      " [ 4  5  6]\n",
      " [ 7  8  9]]\n"
     ]
    }
   ],
   "source": [
    "# vector - 원본 바뀜\n",
    "row[0] = 100\n",
    "print(matrix)\n",
    "\n",
    "column[0] = 20\n",
    "print(matrix)\n",
    "\n",
    "# 데이터 복제는 copy()\n",
    "clone = matrix.copy()\n",
    "clone[0][0] = 40\n",
    "print(matrix)  # clone 수정해도 matrix 안 바뀜"
   ]
  },
  {
   "cell_type": "markdown",
   "id": "a9121f85",
   "metadata": {},
   "source": [
    "## slicing"
   ]
  },
  {
   "cell_type": "code",
   "execution_count": 36,
   "id": "4c171c79",
   "metadata": {},
   "outputs": [
    {
     "name": "stdout",
     "output_type": "stream",
     "text": [
      "[1, 2, 3]\n",
      "[1 2 3]\n",
      "[1, 2, 3, 4, 5]\n",
      "[100   2   3   4   5]\n"
     ]
    }
   ],
   "source": [
    "li = [1,2,3,4,5]\n",
    "c = li[0:3]  # list slicing\n",
    "s = li[0:3]\n",
    "print(c)\n",
    "\n",
    "ar = np.array(li)\n",
    "d = ar[0:3]\n",
    "e = ar[0:3]\n",
    "print(d)\n",
    "\n",
    "c[0] = 100\n",
    "print(li)\n",
    "\n",
    "d[0] = 100\n",
    "print(ar)"
   ]
  },
  {
   "cell_type": "markdown",
   "id": "f7ddf595",
   "metadata": {},
   "source": [
    "## Fancy Indexing"
   ]
  },
  {
   "cell_type": "code",
   "execution_count": 38,
   "id": "4f986b08",
   "metadata": {},
   "outputs": [
    {
     "name": "stdout",
     "output_type": "stream",
     "text": [
      "[1 3]\n",
      "[1 2 3 4 5]\n"
     ]
    }
   ],
   "source": [
    "# 인덱싱 할 때 list 이용하는 것\n",
    "ar = np.array([1,2,3,4,5])\n",
    "f = ar[[0,2]]\n",
    "print(f)\n",
    "\n",
    "f[0] = 100\n",
    "print(ar)"
   ]
  },
  {
   "cell_type": "code",
   "execution_count": 41,
   "id": "88baa37a",
   "metadata": {},
   "outputs": [
    {
     "name": "stdout",
     "output_type": "stream",
     "text": [
      "[False False False]\n"
     ]
    }
   ],
   "source": [
    "# print([1,2,3] > 3)  # 에러\n",
    "print(np.array([1,2,3]) > 3)\n"
   ]
  },
  {
   "cell_type": "code",
   "execution_count": 46,
   "id": "7f53a86c",
   "metadata": {},
   "outputs": [
    {
     "name": "stdout",
     "output_type": "stream",
     "text": [
      "[1 2 4 7]\n",
      "[2 4 6]\n"
     ]
    }
   ],
   "source": [
    "# boolean indexing : array 인덱스에 bool 배열 대입해서 True 데이터 추출\n",
    "# 조건에 맞는 데이터만 추출할 때 사용\n",
    "ar = np.array([1,2,3,4,5,6,7])\n",
    "br = np.array([20,40,2,56,234,3010,23])\n",
    "result = ar[(br >= 10) & (br <= 90)]\n",
    "result1 = ar[ar % 2 == 0]\n",
    "print(result)\n",
    "print(result1)"
   ]
  },
  {
   "cell_type": "markdown",
   "id": "6c113354",
   "metadata": {},
   "source": [
    "## ndarray 연산"
   ]
  },
  {
   "cell_type": "code",
   "execution_count": 48,
   "id": "41ceb10a",
   "metadata": {},
   "outputs": [
    {
     "name": "stdout",
     "output_type": "stream",
     "text": [
      "[ 2  4  6  8 10]\n",
      "[2 3 4 5 6]\n"
     ]
    }
   ],
   "source": [
    "ar = np.array([1,2,3,4,5])\n",
    "br = np.array([1,2,3,4,5])\n",
    "cr = np.array([1,2,3,4])\n",
    "print(ar + br)\n",
    "# print(ar + cr)  # 에러\n",
    "print(ar + 1)"
   ]
  },
  {
   "cell_type": "code",
   "execution_count": 57,
   "id": "af407294",
   "metadata": {},
   "outputs": [
    {
     "name": "stdout",
     "output_type": "stream",
     "text": [
      "[[2 4 6]\n",
      " [5 7 9]]\n",
      "[[2 4]\n",
      " [4 6]]\n"
     ]
    }
   ],
   "source": [
    "a = np.array([[1,2,3],[4,5,6]])\n",
    "b = np.array([1,2,3])\n",
    "print(a+b)\n",
    "c = np.array([1,2])\n",
    "d = np.array([1,2,3,4]).reshape(2,2)\n",
    "print(c+d)"
   ]
  },
  {
   "cell_type": "code",
   "execution_count": 61,
   "id": "58b4db9f",
   "metadata": {},
   "outputs": [
    {
     "name": "stdout",
     "output_type": "stream",
     "text": [
      "[False False  True False  True]\n",
      "[ True  True  True  True  True]\n",
      "[False False  True False  True]\n"
     ]
    }
   ],
   "source": [
    "# 논리 연산\n",
    "ar = np.array([1,2,3,4,5])\n",
    "br = np.array([10,20,False,40,0])\n",
    "\n",
    "print(ar > br)  # [False False  True False  True]\n",
    "print(np.not_equal(ar, br))  # [ True  True  True  True  True]\n",
    "print(np.logical_xor(ar, br))  # [False False  True False  True]"
   ]
  },
  {
   "cell_type": "code",
   "execution_count": 63,
   "id": "4fbf3c61",
   "metadata": {},
   "outputs": [
    {
     "name": "stdout",
     "output_type": "stream",
     "text": [
      "[11 22  3 44  5]\n",
      "False\n",
      "False\n",
      "False\n"
     ]
    },
    {
     "name": "stderr",
     "output_type": "stream",
     "text": [
      "C:\\Users\\USER\\AppData\\Local\\Temp\\ipykernel_14128\\2013362749.py:9: DeprecationWarning: elementwise comparison failed; this will raise an error in the future.\n",
      "  print([1,2] in ar)\n",
      "C:\\Users\\USER\\AppData\\Local\\Temp\\ipykernel_14128\\2013362749.py:10: DeprecationWarning: elementwise comparison failed; this will raise an error in the future.\n",
      "  print([1,100] in ar)\n"
     ]
    }
   ],
   "source": [
    "# 연산 후 할당\n",
    "ar = np.array([1,2,3,4,5])\n",
    "br = np.array([10,20,False,40,0])\n",
    "\n",
    "ar += br\n",
    "print(ar)  # [11 22  3 44  5]\n",
    "\n",
    "print(1 in ar)  # False\n",
    "print([1,2] in ar)  # False\n",
    "print([1,100] in ar)  # False"
   ]
  },
  {
   "cell_type": "code",
   "execution_count": 66,
   "id": "ced531e2",
   "metadata": {},
   "outputs": [
    {
     "name": "stdout",
     "output_type": "stream",
     "text": [
      "[101 102 103 104 105]\n",
      "[101 102 103 104 105]\n",
      "[101 102 103 104 105]\n"
     ]
    }
   ],
   "source": [
    "# 벡터화된 함수 적용\n",
    "\n",
    "# 매개 변수에 100을 더해서 반환하는 함수 만들기\n",
    "\n",
    "def add100(a):\n",
    "    return a + 100\n",
    "\n",
    "# 벡터화된 함수로 수정\n",
    "vec_add100 = np.vectorize(add100)\n",
    "\n",
    "\n",
    "ar = np.array([1,2,3,4,5])\n",
    "print(add100(ar))\n",
    "print(vec_add100(ar))\n",
    "\n",
    "\n",
    "# lambda 함수 이용\n",
    "print(np.vectorize(lambda i:i+100)(ar))"
   ]
  },
  {
   "cell_type": "markdown",
   "id": "aca7c45c",
   "metadata": {},
   "source": [
    "## Transpose"
   ]
  },
  {
   "cell_type": "code",
   "execution_count": 77,
   "id": "533598c3",
   "metadata": {},
   "outputs": [
    {
     "name": "stdout",
     "output_type": "stream",
     "text": [
      "[[ 1  2]\n",
      " [ 3  4]\n",
      " [ 5  6]\n",
      " [ 7  8]\n",
      " [ 9 10]]\n",
      "[[ 1  3  5  7  9]\n",
      " [ 2  4  6  8 10]]\n",
      "(3, 4, 5)\n",
      "(5, 4, 3)\n"
     ]
    }
   ],
   "source": [
    "matrix = np.array(range(1,11)).reshape(5,2)\n",
    "print(matrix)\n",
    "print(matrix.T)  # 전치\n",
    "\n",
    "m = np.random.normal(size=(3,4,5))\n",
    "print(np.shape(m))\n",
    "tm = m.transpose((2,1,0))\n",
    "print(np.shape(tm))"
   ]
  },
  {
   "cell_type": "markdown",
   "id": "a3d3e998",
   "metadata": {},
   "source": [
    "## Random"
   ]
  },
  {
   "cell_type": "code",
   "execution_count": 133,
   "id": "8eb37772",
   "metadata": {},
   "outputs": [
    {
     "name": "stdout",
     "output_type": "stream",
     "text": [
      "[ 1  2  3  4  5  6  7  8  9 10 11 12 13 14 15 16 17 18 19 20 21 22 23 24\n",
      " 25 26 27 28 29 30 31 32 33 34 35 36 37 38 39 40 41 42 43 44 45 46 47 48]\n",
      "[30  5 27 31 33 38 35 41  8 11 12 32 34 28 48  3 47 19 16 29 23 17 42 21\n",
      " 43  9 14 26  6 18 36 15 39  2 13 44 25  7 24 37 22 20 10 40 46  4  1 45]\n",
      "[30  5 27 31 33 38 35 41  8 11 12 32 34 28 48  3 47 19 16 29 23 17 42 21\n",
      " 43  9 14 26  6 18 36 15 39  2 13 44 25  7 24 37 22 20 10 40 46  4  1 45]\n"
     ]
    }
   ],
   "source": [
    "\n",
    "cards = np.array(range(1,49))\n",
    "print(cards)\n",
    "\n",
    "permute1 = np.random.permutation(cards)\n",
    "print(permute)\n",
    "\n",
    "\n",
    "permute = np.random.permutation(cards)\n",
    "print(permute)"
   ]
  },
  {
   "cell_type": "markdown",
   "id": "73427a78",
   "metadata": {},
   "source": [
    "## 기본 통계 함수"
   ]
  },
  {
   "cell_type": "code",
   "execution_count": 148,
   "id": "389997fd",
   "metadata": {},
   "outputs": [
    {
     "name": "stdout",
     "output_type": "stream",
     "text": [
      "[[0.26473016 0.39782075]\n",
      " [0.55282148 0.16494046]\n",
      " [0.36980809 0.14644176]]\n",
      "1.8965627126489863\n",
      "0.14134584265896327\n",
      "0.15483661286778033\n",
      "0.3908175877560568\n",
      "[1.18735974 0.70920298]\n",
      "[0.66255092 0.71776194 0.51624986]\n",
      "[[0.66255092]\n",
      " [0.71776194]\n",
      " [0.51624986]]\n",
      "[1 0 0]\n",
      "[0.05412087 0.00960903]\n"
     ]
    }
   ],
   "source": [
    "matrix = np.random.uniform(size=(3,2))\n",
    "print(matrix)\n",
    "print(matrix.sum())\n",
    "print(matrix.std())  # 모표준편차\n",
    "print(matrix.std(ddof=1))  # 표본표준편차 - 자유도 1\n",
    "print(np.percentile(matrix, 75)) # 75%에 해당하는 값\n",
    "# 행 단위 열 단위 합계\n",
    "print(matrix.sum(axis=0))  # 열 마다 계산\n",
    "print(matrix.sum(axis=1))  # 행 마다 계산\n",
    "print(matrix.sum(axis=1, keepdims=True))  # 행 마다 계산 - matrix와 동일한 차원으로 반환\n",
    "\n",
    "print(matrix.argmax(axis=1))\n",
    "print(matrix.prod(axis=0))"
   ]
  },
  {
   "cell_type": "code",
   "execution_count": 152,
   "id": "9cfa94b7",
   "metadata": {},
   "outputs": [
    {
     "name": "stdout",
     "output_type": "stream",
     "text": [
      "[  2   4  10  23 467]\n",
      "[ 10   4 467  23   2]\n",
      "[[ 4  3  2]\n",
      " [10 40 24]\n",
      " [20 40 60]]\n"
     ]
    }
   ],
   "source": [
    "ar = np.array([10,4,467,23,2])\n",
    "result = np.sort(ar)  # 데이터 정렬\n",
    "print(result)\n",
    "print(ar)\n",
    "\n",
    "br = np.array([[10,40,60],[20,40,24],[4,3,2]])\n",
    "result = np.sort(br, axis=0)\n",
    "print(result)"
   ]
  },
  {
   "cell_type": "code",
   "execution_count": 164,
   "id": "eb4768b6",
   "metadata": {},
   "outputs": [
    {
     "name": "stdout",
     "output_type": "stream",
     "text": [
      "(10, 5)\n",
      "<class 'tuple'>\n",
      "10\n",
      "Help on function split in module numpy:\n",
      "\n",
      "split(ary, indices_or_sections, axis=0)\n",
      "    Split an array into multiple sub-arrays as views into `ary`.\n",
      "    \n",
      "    Parameters\n",
      "    ----------\n",
      "    ary : ndarray\n",
      "        Array to be divided into sub-arrays.\n",
      "    indices_or_sections : int or 1-D array\n",
      "        If `indices_or_sections` is an integer, N, the array will be divided\n",
      "        into N equal arrays along `axis`.  If such a split is not possible,\n",
      "        an error is raised.\n",
      "    \n",
      "        If `indices_or_sections` is a 1-D array of sorted integers, the entries\n",
      "        indicate where along `axis` the array is split.  For example,\n",
      "        ``[2, 3]`` would, for ``axis=0``, result in\n",
      "    \n",
      "          - ary[:2]\n",
      "          - ary[2:3]\n",
      "          - ary[3:]\n",
      "    \n",
      "        If an index exceeds the dimension of the array along `axis`,\n",
      "        an empty sub-array is returned correspondingly.\n",
      "    axis : int, optional\n",
      "        The axis along which to split, default is 0.\n",
      "    \n",
      "    Returns\n",
      "    -------\n",
      "    sub-arrays : list of ndarrays\n",
      "        A list of sub-arrays as views into `ary`.\n",
      "    \n",
      "    Raises\n",
      "    ------\n",
      "    ValueError\n",
      "        If `indices_or_sections` is given as an integer, but\n",
      "        a split does not result in equal division.\n",
      "    \n",
      "    See Also\n",
      "    --------\n",
      "    array_split : Split an array into multiple sub-arrays of equal or\n",
      "                  near-equal size.  Does not raise an exception if\n",
      "                  an equal division cannot be made.\n",
      "    hsplit : Split array into multiple sub-arrays horizontally (column-wise).\n",
      "    vsplit : Split array into multiple sub-arrays vertically (row wise).\n",
      "    dsplit : Split array into multiple sub-arrays along the 3rd axis (depth).\n",
      "    concatenate : Join a sequence of arrays along an existing axis.\n",
      "    stack : Join a sequence of arrays along a new axis.\n",
      "    hstack : Stack arrays in sequence horizontally (column wise).\n",
      "    vstack : Stack arrays in sequence vertically (row wise).\n",
      "    dstack : Stack arrays in sequence depth wise (along third dimension).\n",
      "    \n",
      "    Examples\n",
      "    --------\n",
      "    >>> x = np.arange(9.0)\n",
      "    >>> np.split(x, 3)\n",
      "    [array([0.,  1.,  2.]), array([3.,  4.,  5.]), array([6.,  7.,  8.])]\n",
      "    \n",
      "    >>> x = np.arange(8.0)\n",
      "    >>> np.split(x, [3, 5, 6, 10])\n",
      "    [array([0.,  1.,  2.]),\n",
      "     array([3.,  4.]),\n",
      "     array([5.]),\n",
      "     array([6.,  7.]),\n",
      "     array([], dtype=float64)]\n",
      "\n",
      "[[ 1  2  3  4  5]\n",
      " [ 6  7  8  9 10]\n",
      " [11 12 13 14 15]\n",
      " [16 17 18 19 20]\n",
      " [21 22 23 24 25]\n",
      " [26 27 28 29 30]\n",
      " [31 32 33 34 35]]\n",
      "[[36 37 38 39 40]\n",
      " [41 42 43 44 45]]\n",
      "[[46 47 48 49 50]]\n"
     ]
    }
   ],
   "source": [
    "x = range(1,51)\n",
    "matrix = np.array(x).reshape(10,5)\n",
    "\n",
    "# 행과 열의 개수 가져오기\n",
    "print(matrix.shape)\n",
    "print(type(matrix.shape))\n",
    "cnt = matrix.shape[0]\n",
    "print(cnt)\n",
    "\n",
    "# 데이터 분할(7 : 3) - split()\n",
    "help(np.split)\n",
    "train, validation, test = np.split(matrix, [int(cnt * 0.7), int(cnt*0.9)])\n",
    "print(train)\n",
    "print(validation)\n",
    "print(test)"
   ]
  },
  {
   "cell_type": "code",
   "execution_count": null,
   "id": "5cb61cfa",
   "metadata": {},
   "outputs": [],
   "source": []
  }
 ],
 "metadata": {
  "kernelspec": {
   "display_name": "Python 3 (ipykernel)",
   "language": "python",
   "name": "python3"
  },
  "language_info": {
   "codemirror_mode": {
    "name": "ipython",
    "version": 3
   },
   "file_extension": ".py",
   "mimetype": "text/x-python",
   "name": "python",
   "nbconvert_exporter": "python",
   "pygments_lexer": "ipython3",
   "version": "3.10.9"
  }
 },
 "nbformat": 4,
 "nbformat_minor": 5
}
