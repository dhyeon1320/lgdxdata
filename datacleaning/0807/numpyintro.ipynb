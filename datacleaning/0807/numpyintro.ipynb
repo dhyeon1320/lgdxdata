{
 "cells": [
  {
   "cell_type": "markdown",
   "id": "63d4a45d",
   "metadata": {},
   "source": [
    "# numpy"
   ]
  },
  {
   "cell_type": "markdown",
   "id": "4faa181e",
   "metadata": {},
   "source": [
    "## 속도비교"
   ]
  },
  {
   "cell_type": "code",
   "execution_count": 2,
   "id": "8d030975",
   "metadata": {},
   "outputs": [],
   "source": [
    "import numpy as np\n",
    "import datetime"
   ]
  },
  {
   "cell_type": "code",
   "execution_count": 102,
   "id": "760232b2",
   "metadata": {},
   "outputs": [
    {
     "name": "stdout",
     "output_type": "stream",
     "text": [
      "<class 'list'>\n",
      "0:00:00.108080\n"
     ]
    }
   ],
   "source": [
    "# list의 작업 시간\n",
    "li = list(range(1, 1000000))\n",
    "print(type(li))\n",
    "\n",
    "# 현재 시간 저장\n",
    "start = datetime.datetime.now()\n",
    "\n",
    "# 모든 요소에 10을 곱해서 list 수정\n",
    "for i in range(len(li)):\n",
    "    li[i] = li[i] * 10\n",
    "\n",
    "# 현재 시간 저장\n",
    "end = datetime.datetime.now()\n",
    "\n",
    "time = end-start\n",
    "print(time)"
   ]
  },
  {
   "cell_type": "code",
   "execution_count": 103,
   "id": "65853b7b",
   "metadata": {},
   "outputs": [
    {
     "name": "stdout",
     "output_type": "stream",
     "text": [
      "[     10      20      30 ... 9999970 9999980 9999990]\n",
      "0:00:00.001995\n"
     ]
    }
   ],
   "source": [
    "# ndarray의 작업 시간\n",
    "ar = np.arange(1, 1000000)\n",
    "\n",
    "# 현재 시간 저장\n",
    "start = datetime.datetime.now()\n",
    "\n",
    "# 모든 요소에 10 곱함\n",
    "ar = ar * 10\n",
    "\n",
    "# 현재 시간 저장\n",
    "end = datetime.datetime.now()\n",
    "\n",
    "time = end-start\n",
    "print(ar)\n",
    "print(time)"
   ]
  },
  {
   "cell_type": "code",
   "execution_count": 29,
   "id": "d08a8ea9",
   "metadata": {},
   "outputs": [
    {
     "name": "stdout",
     "output_type": "stream",
     "text": [
      "<class 'numpy.ndarray'>\n",
      "int32\n",
      "1\n",
      "(3,)\n"
     ]
    }
   ],
   "source": [
    "# 배열 정보 확인\n",
    "ar = np.array([1,2,3])\n",
    "print(type(ar))  # ar의 자료형 <class 'numpy.ndarray'>\n",
    "print(ar.dtype)  # ar에 저장된 요소의 자료형 int32\n",
    "print(ar.ndim)  # ar의 차원 1\n",
    "print(ar.shape)  # ar의 모양 (3,)"
   ]
  },
  {
   "cell_type": "code",
   "execution_count": 40,
   "id": "7d419fa8",
   "metadata": {},
   "outputs": [
    {
     "name": "stdout",
     "output_type": "stream",
     "text": [
      "2\n",
      "(2, 3)\n"
     ]
    }
   ],
   "source": [
    "ar = np.array([[1,2,3],[4,5,6]])  \n",
    "print(ar.ndim)  # 2\n",
    "print(ar.shape)  # (2, 3)"
   ]
  },
  {
   "cell_type": "code",
   "execution_count": 56,
   "id": "7866b272",
   "metadata": {
    "scrolled": false
   },
   "outputs": [
    {
     "name": "stdout",
     "output_type": "stream",
     "text": [
      "[ 1  3  5  7  9 11 13 15 17 19 21 23 25 27 29 31 33 35 37 39 41 43 45 47\n",
      " 49 51 53 55 57 59 61 63 65 67 69 71 73 75 77 79 81 83 85 87 89 91 93 95\n",
      " 97 99]\n",
      "[  1.  12.  23.  34.  45.  56.  67.  78.  89. 100.]\n",
      "[0 1 2 3 4 5 6 7 8 9]\n"
     ]
    }
   ],
   "source": [
    "# 생성 함수\n",
    "# arange([start,] stop[, step,], dtype=None)  # 개수를 지정하지 않고 시작위치, 종료위치, 간격 설정해서 데이터 생성\n",
    "ar = np.arange(1, 100, 2)\n",
    "print(ar)  # [ 1  3  5  7  9 11 13 15 17 19 21 23 25 27 29 31 33 35 37 39 41 43 45 47 49 51 53 55 57 59 61 63 65 67 69 71 73 75 77 79 81 83 85 87 89 91 93 95 97 99]\n",
    "# linspace(start, stop, num=50, endpoint=True, retstep=False, dtype=None)  # 확률, 통계 실습할 때 많이 사용\n",
    "ar = np.linspace(1, 100, num=10)\n",
    "print(ar)  # [  1.  12.  23.  34.  45.  56.  67.  78.  89. 100.]\n",
    "print(np.arange(10))"
   ]
  },
  {
   "cell_type": "code",
   "execution_count": 66,
   "id": "4bd3bd53",
   "metadata": {},
   "outputs": [
    {
     "name": "stdout",
     "output_type": "stream",
     "text": [
      "[0. 0. 0. 0.]\n",
      "[[0. 0.]]\n",
      "[1. 1.]\n",
      "[[1. 1. 1.]\n",
      " [1. 1. 1.]]\n"
     ]
    }
   ],
   "source": [
    "print(np.zeros(4))\n",
    "print(np.zeros((1,2)))\n",
    "print(np.ones(2))\n",
    "print(np.ones((2,3)))"
   ]
  },
  {
   "cell_type": "code",
   "execution_count": 69,
   "id": "9bbc8e77",
   "metadata": {},
   "outputs": [
    {
     "name": "stdout",
     "output_type": "stream",
     "text": [
      "[[0 0 0]\n",
      " [0 0 0]]\n",
      "[1 1]\n"
     ]
    }
   ],
   "source": [
    "print(np.zeros_like([[1,2,3],[1,2,3]]))\n",
    "print(np.ones_like((4,5)))"
   ]
  },
  {
   "cell_type": "code",
   "execution_count": 77,
   "id": "9159a5ff",
   "metadata": {},
   "outputs": [
    {
     "name": "stdout",
     "output_type": "stream",
     "text": [
      "[[9.16112842e-312 3.16202013e-322 0.00000000e+000]\n",
      " [0.00000000e+000 0.00000000e+000 4.08073272e-033]\n",
      " [2.03794954e+160 1.48643040e-076 1.05140399e-046]\n",
      " [1.79247159e+160 4.11848079e-033 2.21472074e+160]]\n",
      "[4 5]\n"
     ]
    }
   ],
   "source": [
    "print(np.empty((4,3)))\n",
    "print(np.empty_like((4,3)))"
   ]
  },
  {
   "cell_type": "code",
   "execution_count": 83,
   "id": "1cfcbdfc",
   "metadata": {},
   "outputs": [
    {
     "name": "stdout",
     "output_type": "stream",
     "text": [
      "[[1. 0.]\n",
      " [0. 1.]\n",
      " [0. 0.]]\n",
      "[[1. 0. 0.]\n",
      " [0. 1. 0.]\n",
      " [0. 0. 1.]]\n",
      "[[0. 1. 0.]\n",
      " [0. 0. 1.]\n",
      " [0. 0. 0.]]\n",
      "[[0. 0. 0.]\n",
      " [1. 0. 0.]\n",
      " [0. 1. 0.]]\n"
     ]
    }
   ],
   "source": [
    "print(np.eye(3,2))\n",
    "print(np.identity(3))\n",
    "\n",
    "print(np.eye(3, k=1))\n",
    "print(np.eye(3, k=-1))"
   ]
  },
  {
   "cell_type": "code",
   "execution_count": 89,
   "id": "82dedb93",
   "metadata": {},
   "outputs": [
    {
     "name": "stdout",
     "output_type": "stream",
     "text": [
      "[[1 2 3]\n",
      " [4 5 6]\n",
      " [7 8 9]]\n",
      "[1 5 9]\n",
      "[4 8]\n",
      "[2 6]\n"
     ]
    }
   ],
   "source": [
    "square = np.array([[1,2,3],[4,5,6],[7,8,9]])\n",
    "print(square)\n",
    "print(np.diag(square))  # [1 5 9]\n",
    "print(np.diag(square, k=-1))  # [4 8]\n",
    "print(np.diag(square, k=1))  # [2 6]"
   ]
  },
  {
   "cell_type": "code",
   "execution_count": 3,
   "id": "251c88e9",
   "metadata": {},
   "outputs": [
    {
     "name": "stdout",
     "output_type": "stream",
     "text": [
      "['1' '2' '3']\n",
      "[1 2 3]\n",
      "[1 2 3]\n"
     ]
    }
   ],
   "source": [
    "ar = np.array([1,2,'3'])  # 문자열 배열\n",
    "print(ar)\n",
    "ar = np.array([1,2,'3'], dtype=np.int32)  # 자료형 정수로 지정\n",
    "print(ar)\n",
    "br = ar.astype(np.int32)  # 기존 배열 자료형 변경\n",
    "print(br)"
   ]
  },
  {
   "cell_type": "code",
   "execution_count": 100,
   "id": "b035b3ec",
   "metadata": {},
   "outputs": [
    {
     "name": "stdout",
     "output_type": "stream",
     "text": [
      "[[1 2 3]\n",
      " [4 5 6]\n",
      " [7 8 9]]\n",
      "[1 2 3 4 5 6 7 8 9]\n",
      "[101   2   3   4   5   6   7   8   9]\n",
      "[[101   2   3]\n",
      " [  4   5   6]\n",
      " [  7   8   9]]\n",
      "[101   2   3   4   5   6   7   8   9]\n",
      "[201   2   3   4   5   6   7   8   9]\n",
      "[[101   2   3]\n",
      " [  4   5   6]\n",
      " [  7   8   9]]\n"
     ]
    }
   ],
   "source": [
    "matrix = np.array([[1,2,3],[4,5,6],[7,8,9]])\n",
    "print(matrix)  # 3X3 행렬\n",
    "ar = matrix.reshape(-1)  # 1차원\n",
    "print(ar)\n",
    "ar[0] = 101\n",
    "print(ar)\n",
    "print(matrix)  # 같이 바뀜\n",
    "\n",
    "fl = matrix.flatten()\n",
    "print(fl)\n",
    "fl[0] = 201\n",
    "print(fl)  # 복사본\n",
    "print(matrix)  # 바뀌지 않음"
   ]
  },
  {
   "cell_type": "code",
   "execution_count": 136,
   "id": "0b008ff5",
   "metadata": {},
   "outputs": [
    {
     "name": "stdout",
     "output_type": "stream",
     "text": [
      "[[1 2 3]\n",
      " [4 5 6]\n",
      " [7 8 9]]\n",
      "[1 2 3]\n",
      "2\n",
      "[1 4 7]\n",
      "[2 5]\n",
      "\n",
      "[1 2 3]\n",
      "[1 2 3]\n",
      "\n",
      "[100   2   3]\n",
      "[100   2   3]\n",
      "[[100   2   3]\n",
      " [  4   5   6]\n",
      " [  7   8   9]]\n",
      "\n",
      "[20  2  3]\n",
      "[20  2  3]\n",
      "[[20  2  3]\n",
      " [ 4  5  6]\n",
      " [ 7  8  9]]\n",
      "\n",
      "[[20  2  3]]\n",
      "[20  2]\n",
      "\n",
      "[[30  2  3]]\n",
      "[20  2]\n",
      "[[20  2  3]\n",
      " [ 4  5  6]\n",
      " [ 7  8  9]]\n",
      "\n",
      "[[30  2  3]]\n",
      "[40  2]\n",
      "[[40  2  3]\n",
      " [ 4  5  6]\n",
      " [ 7  8  9]]\n"
     ]
    }
   ],
   "source": [
    "matrix = np.array([[1,2,3],[4,5,6],[7,8,9]])\n",
    "print(matrix)\n",
    "print(matrix[0])  # [1 2 3]\n",
    "print(matrix[0][1])  # 2\n",
    "print(matrix[:,0])  # [1 4 7]\n",
    "print(matrix[0:2, 1])  # [2 5]\n",
    "print()\n",
    "\n",
    "# 인덱싱\n",
    "ar = matrix[0]\n",
    "br = matrix[0,]\n",
    "print(ar)  # [1 2 3]\n",
    "print(br)  # [1 2 3]\n",
    "print()\n",
    "\n",
    "ar[0] = 100\n",
    "print(ar)  # [100   2   3]\n",
    "print(br)  # [100   2   3]\n",
    "print(matrix)\n",
    "print()\n",
    "\n",
    "br[0] = 20\n",
    "print(ar)  # [20   2   3]\n",
    "print(br)  # [20   2   3]\n",
    "print(matrix)\n",
    "print()\n",
    "\n",
    "# list 이용하는 인덱싱 - 팬시 인덱싱\n",
    "cr = matrix[[0]]\n",
    "# 범위를 이용하는 형태 - 슬라이싱\n",
    "dr = matrix[0][0:-1]\n",
    "print(cr)\n",
    "print(dr)\n",
    "print()\n",
    "\n",
    "cr[0, 0] = 30\n",
    "print(cr)\n",
    "print(dr)\n",
    "print(matrix)\n",
    "print()\n",
    "\n",
    "dr[0] = 40\n",
    "print(cr)\n",
    "print(dr)\n",
    "print(matrix)"
   ]
  },
  {
   "cell_type": "code",
   "execution_count": 134,
   "id": "c6e59424",
   "metadata": {},
   "outputs": [
    {
     "name": "stdout",
     "output_type": "stream",
     "text": [
      "[467   5]\n"
     ]
    }
   ],
   "source": [
    "ar = np.array([4,6,10,364,23,5])\n",
    "br = np.array([5,1,467,34,5,3])\n",
    "\n",
    "# print(br[(ar >= 10) and (ar <= 30)])  # 에러\n",
    "print(br[(ar >= 10) & (ar <= 30)])  # [467   5]\n"
   ]
  },
  {
   "cell_type": "code",
   "execution_count": null,
   "id": "2398b029",
   "metadata": {},
   "outputs": [],
   "source": []
  }
 ],
 "metadata": {
  "kernelspec": {
   "display_name": "Python 3 (ipykernel)",
   "language": "python",
   "name": "python3"
  },
  "language_info": {
   "codemirror_mode": {
    "name": "ipython",
    "version": 3
   },
   "file_extension": ".py",
   "mimetype": "text/x-python",
   "name": "python",
   "nbconvert_exporter": "python",
   "pygments_lexer": "ipython3",
   "version": "3.10.9"
  }
 },
 "nbformat": 4,
 "nbformat_minor": 5
}
