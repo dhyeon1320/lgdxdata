{
 "cells": [
  {
   "cell_type": "code",
   "execution_count": 3,
   "id": "eda61f7c",
   "metadata": {},
   "outputs": [],
   "source": [
    "import numpy as np\n",
    "import pandas as pd\n",
    "import seaborn as sns"
   ]
  },
  {
   "cell_type": "code",
   "execution_count": 8,
   "id": "8cddb5a8",
   "metadata": {},
   "outputs": [
    {
     "name": "stdout",
     "output_type": "stream",
     "text": [
      "<class 'pandas.core.frame.DataFrame'>\n",
      "RangeIndex: 891 entries, 0 to 890\n",
      "Data columns (total 15 columns):\n",
      " #   Column       Non-Null Count  Dtype   \n",
      "---  ------       --------------  -----   \n",
      " 0   survived     891 non-null    int64   \n",
      " 1   pclass       891 non-null    int64   \n",
      " 2   sex          891 non-null    object  \n",
      " 3   age          714 non-null    float64 \n",
      " 4   sibsp        891 non-null    int64   \n",
      " 5   parch        891 non-null    int64   \n",
      " 6   fare         891 non-null    float64 \n",
      " 7   embarked     889 non-null    object  \n",
      " 8   class        891 non-null    category\n",
      " 9   who          891 non-null    object  \n",
      " 10  adult_male   891 non-null    bool    \n",
      " 11  deck         203 non-null    category\n",
      " 12  embark_town  889 non-null    object  \n",
      " 13  alive        891 non-null    object  \n",
      " 14  alone        891 non-null    bool    \n",
      "dtypes: bool(2), category(2), float64(2), int64(4), object(5)\n",
      "memory usage: 80.7+ KB\n",
      "\n",
      "\n",
      "\n",
      "\n",
      "   survived  pclass     sex   age  sibsp  parch     fare embarked  class  \\\n",
      "0         0       3    male  22.0      1      0   7.2500        S  Third   \n",
      "1         1       1  female  38.0      1      0  71.2833        C  First   \n",
      "2         1       3  female  26.0      0      0   7.9250        S  Third   \n",
      "3         1       1  female  35.0      1      0  53.1000        S  First   \n",
      "4         0       3    male  35.0      0      0   8.0500        S  Third   \n",
      "\n",
      "     who  adult_male deck  embark_town alive  alone  \n",
      "0    man        True  NaN  Southampton    no  False  \n",
      "1  woman       False    C    Cherbourg   yes  False  \n",
      "2  woman       False  NaN  Southampton   yes   True  \n",
      "3  woman       False    C  Southampton   yes  False  \n",
      "4    man        True  NaN  Southampton    no   True  \n"
     ]
    }
   ],
   "source": [
    "# help(pd.DataFrame.groupby)\n",
    "titanic = sns.load_dataset('titanic')\n",
    "titanic.info()\n",
    "print('\\n\\n\\n')\n",
    "print(titanic.head())"
   ]
  },
  {
   "cell_type": "code",
   "execution_count": 9,
   "id": "4b08ac17",
   "metadata": {},
   "outputs": [
    {
     "name": "stdout",
     "output_type": "stream",
     "text": [
      "    age     sex  class     fare  survived\n",
      "0  22.0    male  Third   7.2500         0\n",
      "1  38.0  female  First  71.2833         1\n",
      "2  26.0  female  Third   7.9250         1\n",
      "3  35.0  female  First  53.1000         1\n",
      "4  35.0    male  Third   8.0500         0\n"
     ]
    }
   ],
   "source": [
    "# 필요한 column 추출\n",
    "df = titanic[['age','sex','class','fare','survived']]\n",
    "print(df.head())"
   ]
  },
  {
   "cell_type": "code",
   "execution_count": 21,
   "id": "3eb4244e",
   "metadata": {},
   "outputs": [
    {
     "name": "stdout",
     "output_type": "stream",
     "text": [
      "['__annotations__', '__class__', '__class_getitem__', '__delattr__', '__dict__', '__dir__', '__doc__', '__eq__', '__format__', '__ge__', '__getattr__', '__getattribute__', '__getitem__', '__gt__', '__hash__', '__init__', '__init_subclass__', '__iter__', '__le__', '__len__', '__lt__', '__module__', '__ne__', '__new__', '__orig_bases__', '__parameters__', '__reduce__', '__reduce_ex__', '__repr__', '__setattr__', '__sizeof__', '__slots__', '__str__', '__subclasshook__', '__weakref__', '_accessors', '_agg_examples_doc', '_agg_general', '_agg_py_fallback', '_aggregate_frame', '_aggregate_item_by_item', '_aggregate_with_numba', '_apply_allowlist', '_apply_filter', '_apply_to_column_groupbys', '_ascending_count', '_bool_agg', '_choose_path', '_concat_objects', '_constructor', '_cumcount_array', '_cython_agg_general', '_cython_transform', '_define_paths', '_descending_count', '_dir_additions', '_dir_deletions', '_fill', '_get_cythonized_result', '_get_data_to_aggregate', '_get_index', '_get_indices', '_gotitem', '_group_selection', '_group_selection_context', '_hidden_attrs', '_indexed_output_to_ndframe', '_insert_inaxis_grouper_inplace', '_internal_names', '_internal_names_set', '_is_protocol', '_iterate_column_groupbys', '_iterate_slices', '_make_mask_from_int', '_make_mask_from_list', '_make_mask_from_positional_indexer', '_make_mask_from_slice', '_make_mask_from_tuple', '_make_wrapper', '_mask_selected_obj', '_maybe_warn_numeric_only_depr', '_nth', '_numba_agg_general', '_numba_prep', '_obj_1d_constructor', '_obj_with_exclusions', '_positional_selector', '_python_agg_general', '_python_apply_general', '_reindex_output', '_reset_cache', '_reset_group_selection', '_resolve_numeric_only', '_selected_obj', '_selection', '_selection_list', '_set_group_selection', '_set_result_index_ordered', '_transform', '_transform_general', '_transform_item_by_item', '_transform_with_numba', '_wrap_agged_manager', '_wrap_aggregated_output', '_wrap_applied_output', '_wrap_applied_output_series', '_wrap_transform_fast_result', '_wrap_transformed_output', 'age', 'agg', 'aggregate', 'all', 'any', 'apply', 'backfill', 'bfill', 'boxplot', 'class', 'corr', 'corrwith', 'count', 'cov', 'cumcount', 'cummax', 'cummin', 'cumprod', 'cumsum', 'describe', 'diff', 'dtypes', 'ewm', 'expanding', 'fare', 'ffill', 'fillna', 'filter', 'first', 'get_group', 'groups', 'head', 'hist', 'idxmax', 'idxmin', 'indices', 'last', 'mad', 'max', 'mean', 'median', 'min', 'ndim', 'ngroup', 'ngroups', 'nth', 'nunique', 'ohlc', 'pad', 'pct_change', 'pipe', 'plot', 'prod', 'quantile', 'rank', 'resample', 'rolling', 'sample', 'sem', 'sex', 'shift', 'size', 'skew', 'std', 'sum', 'survived', 'tail', 'take', 'transform', 'tshift', 'value_counts', 'var']\n"
     ]
    }
   ],
   "source": [
    "grouped = df.groupby(['class', 'sex'])\n",
    "print(dir(grouped))  # __iter__ 있으면 for문 사용 가능"
   ]
  },
  {
   "cell_type": "code",
   "execution_count": 28,
   "id": "38d37529",
   "metadata": {},
   "outputs": [
    {
     "name": "stdout",
     "output_type": "stream",
     "text": [
      "('First', 'female')\n",
      "      age     sex  class      fare  survived\n",
      "1    38.0  female  First   71.2833         1\n",
      "3    35.0  female  First   53.1000         1\n",
      "11   58.0  female  First   26.5500         1\n",
      "31    NaN  female  First  146.5208         1\n",
      "52   49.0  female  First   76.7292         1\n",
      "..    ...     ...    ...       ...       ...\n",
      "856  45.0  female  First  164.8667         1\n",
      "862  48.0  female  First   25.9292         1\n",
      "871  47.0  female  First   52.5542         1\n",
      "879  56.0  female  First   83.1583         1\n",
      "887  19.0  female  First   30.0000         1\n",
      "\n",
      "[94 rows x 5 columns]\n",
      "('First', 'male')\n",
      "      age   sex  class      fare  survived\n",
      "6    54.0  male  First   51.8625         0\n",
      "23   28.0  male  First   35.5000         1\n",
      "27   19.0  male  First  263.0000         0\n",
      "30   40.0  male  First   27.7208         0\n",
      "34   28.0  male  First   82.1708         0\n",
      "..    ...   ...    ...       ...       ...\n",
      "839   NaN  male  First   29.7000         1\n",
      "857  51.0  male  First   26.5500         1\n",
      "867  31.0  male  First   50.4958         0\n",
      "872  33.0  male  First    5.0000         0\n",
      "889  26.0  male  First   30.0000         1\n",
      "\n",
      "[122 rows x 5 columns]\n",
      "('Second', 'female')\n",
      "      age     sex   class     fare  survived\n",
      "9    14.0  female  Second  30.0708         1\n",
      "15   55.0  female  Second  16.0000         1\n",
      "41   27.0  female  Second  21.0000         0\n",
      "43    3.0  female  Second  41.5792         1\n",
      "53   29.0  female  Second  26.0000         1\n",
      "..    ...     ...     ...      ...       ...\n",
      "854  44.0  female  Second  26.0000         0\n",
      "865  42.0  female  Second  13.0000         1\n",
      "866  27.0  female  Second  13.8583         1\n",
      "874  28.0  female  Second  24.0000         1\n",
      "880  25.0  female  Second  26.0000         1\n",
      "\n",
      "[76 rows x 5 columns]\n",
      "('Second', 'male')\n",
      "      age   sex   class  fare  survived\n",
      "17    NaN  male  Second  13.0         1\n",
      "20   35.0  male  Second  26.0         0\n",
      "21   34.0  male  Second  13.0         1\n",
      "33   66.0  male  Second  10.5         0\n",
      "70   32.0  male  Second  10.5         0\n",
      "..    ...   ...     ...   ...       ...\n",
      "848  28.0  male  Second  33.0         0\n",
      "861  21.0  male  Second  11.5         0\n",
      "864  24.0  male  Second  13.0         0\n",
      "883  28.0  male  Second  10.5         0\n",
      "886  27.0  male  Second  13.0         0\n",
      "\n",
      "[108 rows x 5 columns]\n",
      "('Third', 'female')\n",
      "      age     sex  class     fare  survived\n",
      "2    26.0  female  Third   7.9250         1\n",
      "8    27.0  female  Third  11.1333         1\n",
      "10    4.0  female  Third  16.7000         1\n",
      "14   14.0  female  Third   7.8542         0\n",
      "18   31.0  female  Third  18.0000         0\n",
      "..    ...     ...    ...      ...       ...\n",
      "863   NaN  female  Third  69.5500         0\n",
      "875  15.0  female  Third   7.2250         1\n",
      "882  22.0  female  Third  10.5167         0\n",
      "885  39.0  female  Third  29.1250         0\n",
      "888   NaN  female  Third  23.4500         0\n",
      "\n",
      "[144 rows x 5 columns]\n",
      "('Third', 'male')\n",
      "      age   sex  class     fare  survived\n",
      "0    22.0  male  Third   7.2500         0\n",
      "4    35.0  male  Third   8.0500         0\n",
      "5     NaN  male  Third   8.4583         0\n",
      "7     2.0  male  Third  21.0750         0\n",
      "12   20.0  male  Third   8.0500         0\n",
      "..    ...   ...    ...      ...       ...\n",
      "877  19.0  male  Third   7.8958         0\n",
      "878   NaN  male  Third   7.8958         0\n",
      "881  33.0  male  Third   7.8958         0\n",
      "884  25.0  male  Third   7.0500         0\n",
      "890  32.0  male  Third   7.7500         0\n",
      "\n",
      "[347 rows x 5 columns]\n"
     ]
    }
   ],
   "source": [
    "# key : 그룹화된 column 값, group : 그룹화된 데이터\n",
    "for key, group in grouped:\n",
    "    print(key)\n",
    "    print(group)"
   ]
  },
  {
   "cell_type": "code",
   "execution_count": 29,
   "id": "65431630",
   "metadata": {},
   "outputs": [
    {
     "name": "stdout",
     "output_type": "stream",
     "text": [
      "                     age        fare  survived\n",
      "class  sex                                    \n",
      "First  female  34.611765  106.125798  0.968085\n",
      "       male    41.281386   67.226127  0.368852\n",
      "Second female  28.722973   21.970121  0.921053\n",
      "       male    30.740707   19.741782  0.157407\n",
      "Third  female  21.750000   16.118810  0.500000\n",
      "       male    26.507589   12.661633  0.135447\n"
     ]
    }
   ],
   "source": [
    "# 그룹별 집계 가능\n",
    "print(grouped.mean())"
   ]
  },
  {
   "cell_type": "code",
   "execution_count": 30,
   "id": "6a8f6bc8",
   "metadata": {},
   "outputs": [
    {
     "name": "stdout",
     "output_type": "stream",
     "text": [
      "     age   sex  class      fare  survived\n",
      "6   54.0  male  First   51.8625         0\n",
      "23  28.0  male  First   35.5000         1\n",
      "27  19.0  male  First  263.0000         0\n",
      "30  40.0  male  First   27.7208         0\n",
      "34  28.0  male  First   82.1708         0\n"
     ]
    }
   ],
   "source": [
    "# 개별 그룹 가져오기\n",
    "group1 = grouped.get_group(('First', 'male'))\n",
    "print(group1.head())"
   ]
  },
  {
   "cell_type": "code",
   "execution_count": 34,
   "id": "eba9750a",
   "metadata": {},
   "outputs": [
    {
     "name": "stdout",
     "output_type": "stream",
     "text": [
      "<class 'pandas.core.frame.DataFrame'>\n"
     ]
    }
   ],
   "source": [
    "print(type(df[['class']]))"
   ]
  },
  {
   "cell_type": "code",
   "execution_count": 38,
   "id": "1d73ec80",
   "metadata": {},
   "outputs": [
    {
     "name": "stdout",
     "output_type": "stream",
     "text": [
      "                     age       fare  survived\n",
      "class  sex                                   \n",
      "First  female  13.612052  74.259988  0.176716\n",
      "       male    15.139570  77.548021  0.484484\n",
      "Second female  12.872702  10.891796  0.271448\n",
      "       male    14.793894  14.922235  0.365882\n",
      "Third  female  12.729964  11.690314  0.501745\n",
      "       male    12.159514  11.681696  0.342694\n",
      "class   sex   \n",
      "First   female    74.259988\n",
      "        male      77.548021\n",
      "Second  female    10.891796\n",
      "        male      14.922235\n",
      "Third   female    11.690314\n",
      "        male      11.681696\n",
      "Name: fare, dtype: float64\n",
      "class   sex   \n",
      "First   female    74.259988\n",
      "        male      77.548021\n",
      "Second  female    10.891796\n",
      "        male      14.922235\n",
      "Third   female    11.690314\n",
      "        male      11.681696\n",
      "Name: fare, dtype: float64\n"
     ]
    }
   ],
   "source": [
    "# 집계 함수 사용\n",
    "print(grouped.std())\n",
    "print(grouped['fare'].std())\n",
    "print(grouped.fare.std())  # column이름 반드시 문자열이어야 함"
   ]
  },
  {
   "cell_type": "code",
   "execution_count": 43,
   "id": "136dfa5b",
   "metadata": {},
   "outputs": [
    {
     "name": "stdout",
     "output_type": "stream",
     "text": [
      "                age      fare  survived\n",
      "class  sex                             \n",
      "First  female  63.0  512.3292         1\n",
      "       male    80.0  512.3292         1\n",
      "Second female  57.0   65.0000         1\n",
      "       male    70.0   73.5000         1\n",
      "Third  female  63.0   69.5500         1\n",
      "       male    74.0   69.5500         1\n",
      "                age           fare           survived    \n",
      "                min   max      min       max      min max\n",
      "class  sex                                               \n",
      "First  female  2.00  63.0  25.9292  512.3292        0   1\n",
      "       male    0.92  80.0   0.0000  512.3292        0   1\n",
      "Second female  2.00  57.0  10.5000   65.0000        0   1\n",
      "       male    0.67  70.0   0.0000   73.5000        0   1\n",
      "Third  female  0.75  63.0   6.7500   69.5500        0   1\n",
      "       male    0.42  74.0   0.0000   69.5500        0   1\n",
      "                  fare   age\n",
      "class  sex                  \n",
      "First  female  25.9292  63.0\n",
      "       male     0.0000  80.0\n",
      "Second female  10.5000  57.0\n",
      "       male     0.0000  70.0\n",
      "Third  female   6.7500  63.0\n",
      "       male     0.0000  74.0\n"
     ]
    }
   ],
   "source": [
    "# 사용자 정의 함수 적용\n",
    "# group에 agg 이용해서 적용하면 매개변수로 각 그룹 대입됨\n",
    "def f(group):\n",
    "    return group.max()\n",
    "\n",
    "agg_e = grouped.agg(f)\n",
    "print(agg_e)\n",
    "\n",
    "# 여러 column에 함수 적용\n",
    "agg_two = grouped.agg([min,max])\n",
    "print(agg_two)\n",
    "\n",
    "# column마다 다른 함수 적용\n",
    "# agg_three = grouped.agg({'fare':min, 'sex':str.upper})  # upper로 쓰면 에러\n",
    "agg_three = grouped.agg({'fare':min, 'age':max})\n",
    "print(agg_three)"
   ]
  },
  {
   "cell_type": "code",
   "execution_count": 48,
   "id": "3fdf98b2",
   "metadata": {},
   "outputs": [
    {
     "name": "stdout",
     "output_type": "stream",
     "text": [
      "0   -0.370705\n",
      "1    0.248914\n",
      "2    0.333858\n",
      "3    0.028521\n",
      "4    0.698417\n",
      "Name: age, dtype: float64\n",
      "     age   sex  class     fare  survived\n",
      "0   22.0  male  Third   7.2500         0\n",
      "4   35.0  male  Third   8.0500         0\n",
      "5    NaN  male  Third   8.4583         0\n",
      "7    2.0  male  Third  21.0750         0\n",
      "12  20.0  male  Third   8.0500         0\n"
     ]
    }
   ],
   "source": [
    "# cell 단위로 함수 적용 - transform, apply 함수\n",
    "def z_score(x):\n",
    "    return (x - x.mean()) / x.std()\n",
    "\n",
    "age_zscore = grouped.age.transform(z_score)\n",
    "print(age_zscore.head())\n",
    "\n",
    "# SQL의 Having(그룹화한 항목에 필터링) : filter 함수\n",
    "# 그룹화한 항목의 필터링은 그룹의 집계함수 이용해서 필터링 수행\n",
    "# 행 개수가 300개 넘는 그룹의 데이터만 추출\n",
    "group_filter = grouped.filter(lambda x : len(x)>300)\n",
    "print(group_filter.head())"
   ]
  },
  {
   "cell_type": "code",
   "execution_count": 54,
   "id": "34410321",
   "metadata": {},
   "outputs": [
    {
     "name": "stdout",
     "output_type": "stream",
     "text": [
      "<pandas.core.groupby.generic.DataFrameGroupBy object at 0x0000026DFB55F940>\n",
      "age         41.281386\n",
      "fare        67.226127\n",
      "survived     0.368852\n",
      "Name: (First, male), dtype: float64\n"
     ]
    }
   ],
   "source": [
    "# print(df)\n",
    "\n",
    "# 2개00 쵤영으로 그룹화 - multi index 생성\n",
    "grouped = df.groupby(['class', 'sex'])\n",
    "print(grouped)\n",
    "\n",
    "# First class이고 male인 데이터 가져오기\n",
    "gdf = grouped.mean()\n",
    "print(gdf.loc[('First', 'male')])"
   ]
  },
  {
   "cell_type": "code",
   "execution_count": 55,
   "id": "66ad8f8c",
   "metadata": {},
   "outputs": [
    {
     "name": "stdout",
     "output_type": "stream",
     "text": [
      "Help on function pivot_table in module pandas.core.reshape.pivot:\n",
      "\n",
      "pivot_table(data: 'DataFrame', values=None, index=None, columns=None, aggfunc: 'AggFuncType' = 'mean', fill_value=None, margins: 'bool' = False, dropna: 'bool' = True, margins_name: 'str' = 'All', observed: 'bool' = False, sort: 'bool' = True) -> 'DataFrame'\n",
      "    Create a spreadsheet-style pivot table as a DataFrame.\n",
      "    \n",
      "    The levels in the pivot table will be stored in MultiIndex objects\n",
      "    (hierarchical indexes) on the index and columns of the result DataFrame.\n",
      "    \n",
      "    Parameters\n",
      "    ----------\n",
      "    data : DataFrame\n",
      "    values : column to aggregate, optional\n",
      "    index : column, Grouper, array, or list of the previous\n",
      "        If an array is passed, it must be the same length as the data. The\n",
      "        list can contain any of the other types (except list).\n",
      "        Keys to group by on the pivot table index.  If an array is passed,\n",
      "        it is being used as the same manner as column values.\n",
      "    columns : column, Grouper, array, or list of the previous\n",
      "        If an array is passed, it must be the same length as the data. The\n",
      "        list can contain any of the other types (except list).\n",
      "        Keys to group by on the pivot table column.  If an array is passed,\n",
      "        it is being used as the same manner as column values.\n",
      "    aggfunc : function, list of functions, dict, default numpy.mean\n",
      "        If list of functions passed, the resulting pivot table will have\n",
      "        hierarchical columns whose top level are the function names\n",
      "        (inferred from the function objects themselves)\n",
      "        If dict is passed, the key is column to aggregate and value\n",
      "        is function or list of functions.\n",
      "    fill_value : scalar, default None\n",
      "        Value to replace missing values with (in the resulting pivot table,\n",
      "        after aggregation).\n",
      "    margins : bool, default False\n",
      "        Add all row / columns (e.g. for subtotal / grand totals).\n",
      "    dropna : bool, default True\n",
      "        Do not include columns whose entries are all NaN. If True,\n",
      "        rows with a NaN value in any column will be omitted before\n",
      "        computing margins.\n",
      "    margins_name : str, default 'All'\n",
      "        Name of the row / column that will contain the totals\n",
      "        when margins is True.\n",
      "    observed : bool, default False\n",
      "        This only applies if any of the groupers are Categoricals.\n",
      "        If True: only show observed values for categorical groupers.\n",
      "        If False: show all values for categorical groupers.\n",
      "    \n",
      "        .. versionchanged:: 0.25.0\n",
      "    \n",
      "    sort : bool, default True\n",
      "        Specifies if the result should be sorted.\n",
      "    \n",
      "        .. versionadded:: 1.3.0\n",
      "    \n",
      "    Returns\n",
      "    -------\n",
      "    DataFrame\n",
      "        An Excel style pivot table.\n",
      "    \n",
      "    See Also\n",
      "    --------\n",
      "    DataFrame.pivot : Pivot without aggregation that can handle\n",
      "        non-numeric data.\n",
      "    DataFrame.melt: Unpivot a DataFrame from wide to long format,\n",
      "        optionally leaving identifiers set.\n",
      "    wide_to_long : Wide panel to long format. Less flexible but more\n",
      "        user-friendly than melt.\n",
      "    \n",
      "    Notes\n",
      "    -----\n",
      "    Reference :ref:`the user guide <reshaping.pivot>` for more examples.\n",
      "    \n",
      "    Examples\n",
      "    --------\n",
      "    >>> df = pd.DataFrame({\"A\": [\"foo\", \"foo\", \"foo\", \"foo\", \"foo\",\n",
      "    ...                          \"bar\", \"bar\", \"bar\", \"bar\"],\n",
      "    ...                    \"B\": [\"one\", \"one\", \"one\", \"two\", \"two\",\n",
      "    ...                          \"one\", \"one\", \"two\", \"two\"],\n",
      "    ...                    \"C\": [\"small\", \"large\", \"large\", \"small\",\n",
      "    ...                          \"small\", \"large\", \"small\", \"small\",\n",
      "    ...                          \"large\"],\n",
      "    ...                    \"D\": [1, 2, 2, 3, 3, 4, 5, 6, 7],\n",
      "    ...                    \"E\": [2, 4, 5, 5, 6, 6, 8, 9, 9]})\n",
      "    >>> df\n",
      "         A    B      C  D  E\n",
      "    0  foo  one  small  1  2\n",
      "    1  foo  one  large  2  4\n",
      "    2  foo  one  large  2  5\n",
      "    3  foo  two  small  3  5\n",
      "    4  foo  two  small  3  6\n",
      "    5  bar  one  large  4  6\n",
      "    6  bar  one  small  5  8\n",
      "    7  bar  two  small  6  9\n",
      "    8  bar  two  large  7  9\n",
      "    \n",
      "    This first example aggregates values by taking the sum.\n",
      "    \n",
      "    >>> table = pd.pivot_table(df, values='D', index=['A', 'B'],\n",
      "    ...                     columns=['C'], aggfunc=np.sum)\n",
      "    >>> table\n",
      "    C        large  small\n",
      "    A   B\n",
      "    bar one    4.0    5.0\n",
      "        two    7.0    6.0\n",
      "    foo one    4.0    1.0\n",
      "        two    NaN    6.0\n",
      "    \n",
      "    We can also fill missing values using the `fill_value` parameter.\n",
      "    \n",
      "    >>> table = pd.pivot_table(df, values='D', index=['A', 'B'],\n",
      "    ...                     columns=['C'], aggfunc=np.sum, fill_value=0)\n",
      "    >>> table\n",
      "    C        large  small\n",
      "    A   B\n",
      "    bar one      4      5\n",
      "        two      7      6\n",
      "    foo one      4      1\n",
      "        two      0      6\n",
      "    \n",
      "    The next example aggregates by taking the mean across multiple columns.\n",
      "    \n",
      "    >>> table = pd.pivot_table(df, values=['D', 'E'], index=['A', 'C'],\n",
      "    ...                     aggfunc={'D': np.mean,\n",
      "    ...                              'E': np.mean})\n",
      "    >>> table\n",
      "                    D         E\n",
      "    A   C\n",
      "    bar large  5.500000  7.500000\n",
      "        small  5.500000  8.500000\n",
      "    foo large  2.000000  4.500000\n",
      "        small  2.333333  4.333333\n",
      "    \n",
      "    We can also calculate multiple types of aggregations for any given\n",
      "    value column.\n",
      "    \n",
      "    >>> table = pd.pivot_table(df, values=['D', 'E'], index=['A', 'C'],\n",
      "    ...                     aggfunc={'D': np.mean,\n",
      "    ...                              'E': [min, max, np.mean]})\n",
      "    >>> table\n",
      "                      D   E\n",
      "                   mean max      mean  min\n",
      "    A   C\n",
      "    bar large  5.500000   9  7.500000    6\n",
      "        small  5.500000   9  8.500000    8\n",
      "    foo large  2.000000   5  4.500000    4\n",
      "        small  2.333333   6  4.333333    2\n",
      "\n"
     ]
    }
   ],
   "source": [
    "help(pd.pivot_table)"
   ]
  },
  {
   "cell_type": "code",
   "execution_count": 56,
   "id": "29fdae36",
   "metadata": {},
   "outputs": [
    {
     "name": "stdout",
     "output_type": "stream",
     "text": [
      "class       First     Second      Third\n",
      "sex                                    \n",
      "female  34.611765  28.722973  21.750000\n",
      "male    41.281386  30.740707  26.507589\n"
     ]
    }
   ],
   "source": [
    "print(pd.pivot_table(df, index='sex', columns='class', values='age',aggfunc='mean'))"
   ]
  },
  {
   "cell_type": "code",
   "execution_count": 57,
   "id": "7bd15c79",
   "metadata": {},
   "outputs": [],
   "source": []
  },
  {
   "cell_type": "code",
   "execution_count": null,
   "id": "3a60b52b",
   "metadata": {},
   "outputs": [],
   "source": []
  }
 ],
 "metadata": {
  "kernelspec": {
   "display_name": "Python 3 (ipykernel)",
   "language": "python",
   "name": "python3"
  },
  "language_info": {
   "codemirror_mode": {
    "name": "ipython",
    "version": 3
   },
   "file_extension": ".py",
   "mimetype": "text/x-python",
   "name": "python",
   "nbconvert_exporter": "python",
   "pygments_lexer": "ipython3",
   "version": "3.10.9"
  }
 },
 "nbformat": 4,
 "nbformat_minor": 5
}
